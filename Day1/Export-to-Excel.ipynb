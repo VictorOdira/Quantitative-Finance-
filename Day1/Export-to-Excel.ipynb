{
 "cells": [
  {
   "cell_type": "markdown",
   "id": "50642390-17fc-4584-af94-29e197af1098",
   "metadata": {},
   "source": [
    "<h2 style='text-align:center;'>IMPORT STOCK DATA TO EXCEL FILE</h2>"
   ]
  },
  {
   "cell_type": "markdown",
   "id": "974ba87c-2857-4d65-888c-ee10eb10e1ce",
   "metadata": {},
   "source": [
    "<h3 style='text-align:center;'>May 1, 2024</h3>"
   ]
  },
  {
   "cell_type": "markdown",
   "id": "93278e51-96bc-4839-8f31-82bc8b28f702",
   "metadata": {},
   "source": [
    "**Section 1: Import neccesary libraries**"
   ]
  },
  {
   "cell_type": "code",
   "execution_count": 10,
   "id": "e4655fd7-712f-4d19-8b91-21829220d76c",
   "metadata": {},
   "outputs": [],
   "source": [
    "import yfinance as yf \n",
    "from pandas_datareader import data as pdr\n",
    "from datetime import datetime, timedelta\n",
    "import pandas as pd \n",
    "import numpy as np\n",
    "import os"
   ]
  },
  {
   "cell_type": "markdown",
   "id": "94d21561-1ff7-49f7-993e-4775dcd12349",
   "metadata": {},
   "source": [
    "**Section 2: Define Time Horizon/Time Range**"
   ]
  },
  {
   "cell_type": "markdown",
   "id": "4c3e1d32-268a-4125-a1c2-5fd1209d338e",
   "metadata": {},
   "source": [
    "**a) Set end date as toady**"
   ]
  },
  {
   "cell_type": "code",
   "execution_count": 3,
   "id": "975b6b85-3b79-47f8-abdc-00c913e17b17",
   "metadata": {},
   "outputs": [
    {
     "name": "stdout",
     "output_type": "stream",
     "text": [
      "2024-05-01 13:42:11.430808\n"
     ]
    }
   ],
   "source": [
    "end_date = datetime.today()\n",
    "print(end_date)"
   ]
  },
  {
   "cell_type": "markdown",
   "id": "80b1036e-1ba1-461b-a9f7-d56b620056fb",
   "metadata": {},
   "source": [
    "**b) Set start date - two years backward**"
   ]
  },
  {
   "cell_type": "code",
   "execution_count": 4,
   "id": "1ef0b6e3-f82d-4642-a3e2-0a0b2460a47a",
   "metadata": {},
   "outputs": [
    {
     "name": "stdout",
     "output_type": "stream",
     "text": [
      "2022-05-02 13:42:11.430808\n"
     ]
    }
   ],
   "source": [
    "start_date = end_date - timedelta(days = 2 * 365)\n",
    "print(start_date)"
   ]
  },
  {
   "cell_type": "markdown",
   "id": "53523c62-f03e-40b5-824b-9936ee0100a9",
   "metadata": {},
   "source": [
    "**Section 3: Define Tickers for selected Stocks and Download Close Prices**"
   ]
  },
  {
   "cell_type": "markdown",
   "id": "eea484c8-89f3-4ec8-b74e-8a176073d56c",
   "metadata": {},
   "source": [
    "**a) Create a list of Tickers of Stocks**"
   ]
  },
  {
   "cell_type": "code",
   "execution_count": 5,
   "id": "c736ec6e-1731-4568-b74f-7969141f69e9",
   "metadata": {},
   "outputs": [
    {
     "name": "stdout",
     "output_type": "stream",
     "text": [
      "['MSFT', 'META', 'AAPL', 'NFLX']\n"
     ]
    }
   ],
   "source": [
    "tickers = ['MSFT','META','AAPL','NFLX']\n",
    "print(tickers)"
   ]
  },
  {
   "cell_type": "markdown",
   "id": "d85e011e-e677-4bbf-be5a-040f34b3fb0d",
   "metadata": {},
   "source": [
    "**b) Download Stocks Close Prices**"
   ]
  },
  {
   "cell_type": "code",
   "execution_count": 7,
   "id": "0a42a620-f5fe-4ae3-b836-23c8e9ae3b7d",
   "metadata": {},
   "outputs": [
    {
     "name": "stderr",
     "output_type": "stream",
     "text": [
      "[*********************100%%**********************]  1 of 1 completed\n",
      "[*********************100%%**********************]  1 of 1 completed\n",
      "[*********************100%%**********************]  1 of 1 completed\n",
      "[*********************100%%**********************]  1 of 1 completed"
     ]
    },
    {
     "name": "stdout",
     "output_type": "stream",
     "text": [
      "                  MSFT        META        AAPL        NFLX\n",
      "Date                                                      \n",
      "2022-05-02  284.470001  211.130005  157.960007  199.460007\n",
      "2022-05-03  281.779999  212.029999  159.479996  199.869995\n",
      "2022-05-04  289.980011  223.410004  166.020004  204.009995\n",
      "2022-05-05  277.350006  208.279999  156.770004  188.320007\n",
      "2022-05-06  274.730011  203.770004  157.279999  180.970001\n",
      "...                ...         ...         ...         ...\n",
      "2024-04-24  409.059998  493.500000  169.020004  555.119995\n",
      "2024-04-25  399.040009  441.380005  169.889999  564.799988\n",
      "2024-04-26  406.320007  443.290009  169.300003  561.229980\n",
      "2024-04-29  402.250000  432.619995  173.500000  559.489990\n",
      "2024-04-30  389.329987  430.170013  170.330002  550.640015\n",
      "\n",
      "[502 rows x 4 columns]\n"
     ]
    },
    {
     "name": "stderr",
     "output_type": "stream",
     "text": [
      "\n"
     ]
    }
   ],
   "source": [
    "df = pd.DataFrame()\n",
    "for ticker in tickers: \n",
    "    data = yf.download(ticker, start=start_date, end=end_date)\n",
    "    df[ticker] = data['Close']\n",
    "\n",
    "print(df)"
   ]
  },
  {
   "cell_type": "markdown",
   "id": "b24552da-0ad7-4752-bc52-98c0176d6b47",
   "metadata": {},
   "source": [
    "**Section 4: Create a Output Folder and Export Data**"
   ]
  },
  {
   "cell_type": "markdown",
   "id": "d338fdb8-d994-4eb3-b885-7bed0087102f",
   "metadata": {},
   "source": [
    "**a) Set an output folder path**"
   ]
  },
  {
   "cell_type": "code",
   "execution_count": 8,
   "id": "1915dba3-4d8d-4b1f-a006-e76045e86ef2",
   "metadata": {},
   "outputs": [],
   "source": [
    "output_folder = r\"C:\\Users\\user\\Documents\\Quantitative Finance\""
   ]
  },
  {
   "cell_type": "markdown",
   "id": "f1ced854-7959-41b1-8490-0c62274ff503",
   "metadata": {},
   "source": [
    "**b) Export DataFrame to Excel**"
   ]
  },
  {
   "cell_type": "code",
   "execution_count": 11,
   "id": "00f82411-6b60-458b-bdc1-7269becb4a45",
   "metadata": {},
   "outputs": [],
   "source": [
    "output_file = os.path.join(output_folder, 'StockPrices.xlsx')\n",
    "df.to_excel(output_file)"
   ]
  },
  {
   "cell_type": "code",
   "execution_count": null,
   "id": "56d608b1-b79c-4265-8493-100256274c8f",
   "metadata": {},
   "outputs": [],
   "source": []
  }
 ],
 "metadata": {
  "kernelspec": {
   "display_name": "Python 3 (ipykernel)",
   "language": "python",
   "name": "python3"
  },
  "language_info": {
   "codemirror_mode": {
    "name": "ipython",
    "version": 3
   },
   "file_extension": ".py",
   "mimetype": "text/x-python",
   "name": "python",
   "nbconvert_exporter": "python",
   "pygments_lexer": "ipython3",
   "version": "3.11.7"
  }
 },
 "nbformat": 4,
 "nbformat_minor": 5
}
